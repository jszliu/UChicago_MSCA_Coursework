{
 "cells": [
  {
   "cell_type": "code",
   "execution_count": 1,
   "metadata": {},
   "outputs": [],
   "source": [
    "import pandas as pd\n",
    "import numpy as np\n",
    "import sys\n",
    "from scipy.stats import chi2, norm\n",
    "import matplotlib.pyplot as plt\n",
    "from scipy.stats import shapiro, anderson\n",
    "\n",
    "np.set_printoptions(precision = 7, threshold = sys.maxsize)\n",
    "np.set_printoptions(linewidth = np.inf)\n",
    "\n",
    "pd.set_option('display.max_columns', None)\n",
    "pd.set_option('display.expand_frame_repr', False)\n",
    "pd.set_option('max_colwidth', None)\n",
    "pd.set_option('precision', 10)\n",
    "pd.options.display.float_format = '{:,.7e}'.format"
   ]
  },
  {
   "cell_type": "code",
   "execution_count": 2,
   "metadata": {},
   "outputs": [
    {
     "data": {
      "text/html": [
       "<div>\n",
       "<style scoped>\n",
       "    .dataframe tbody tr th:only-of-type {\n",
       "        vertical-align: middle;\n",
       "    }\n",
       "\n",
       "    .dataframe tbody tr th {\n",
       "        vertical-align: top;\n",
       "    }\n",
       "\n",
       "    .dataframe thead th {\n",
       "        text-align: right;\n",
       "    }\n",
       "</style>\n",
       "<table border=\"1\" class=\"dataframe\">\n",
       "  <thead>\n",
       "    <tr style=\"text-align: right;\">\n",
       "      <th></th>\n",
       "      <th>Date</th>\n",
       "      <th>Weight</th>\n",
       "      <th>Month</th>\n",
       "      <th>DayOfWeek</th>\n",
       "    </tr>\n",
       "  </thead>\n",
       "  <tbody>\n",
       "    <tr>\n",
       "      <th>0</th>\n",
       "      <td>2017-03-04</td>\n",
       "      <td>2.0970000e+02</td>\n",
       "      <td>March</td>\n",
       "      <td>Saturday</td>\n",
       "    </tr>\n",
       "    <tr>\n",
       "      <th>1</th>\n",
       "      <td>2017-03-04</td>\n",
       "      <td>2.1240000e+02</td>\n",
       "      <td>March</td>\n",
       "      <td>Saturday</td>\n",
       "    </tr>\n",
       "    <tr>\n",
       "      <th>2</th>\n",
       "      <td>2017-03-05</td>\n",
       "      <td>2.1000000e+02</td>\n",
       "      <td>March</td>\n",
       "      <td>Sunday</td>\n",
       "    </tr>\n",
       "    <tr>\n",
       "      <th>3</th>\n",
       "      <td>2017-03-05</td>\n",
       "      <td>2.1430000e+02</td>\n",
       "      <td>March</td>\n",
       "      <td>Sunday</td>\n",
       "    </tr>\n",
       "    <tr>\n",
       "      <th>4</th>\n",
       "      <td>2017-03-06</td>\n",
       "      <td>2.0910000e+02</td>\n",
       "      <td>March</td>\n",
       "      <td>Monday</td>\n",
       "    </tr>\n",
       "  </tbody>\n",
       "</table>\n",
       "</div>"
      ],
      "text/plain": [
       "        Date        Weight  Month DayOfWeek\n",
       "0 2017-03-04 2.0970000e+02  March  Saturday\n",
       "1 2017-03-04 2.1240000e+02  March  Saturday\n",
       "2 2017-03-05 2.1000000e+02  March    Sunday\n",
       "3 2017-03-05 2.1430000e+02  March    Sunday\n",
       "4 2017-03-06 2.0910000e+02  March    Monday"
      ]
     },
     "execution_count": 2,
     "metadata": {},
     "output_type": "execute_result"
    }
   ],
   "source": [
    "data = pd.read_excel(\"WeightDiary.xlsx\", engine=\"openpyxl\")\n",
    "data[\"Month\"]= data.Date.dt.month_name()\n",
    "data[\"DayOfWeek\"] = data.Date.dt.day_name()\n",
    "data[\"Month\"] = data['Month'].astype('category')\n",
    "data[\"Month\"] = data[\"Month\"].cat.reorder_categories(['January', 'February', 'March', 'April', 'May', \n",
    "                          'June', 'July', 'August', 'September', 'October', 'November', 'December'])\n",
    "\n",
    "data[\"DayOfWeek\"] = data[\"DayOfWeek\"].astype(\"category\")\n",
    "data[\"DayOfWeek\"] = data[\"DayOfWeek\"].cat.reorder_categories(['Sunday', 'Monday', 'Tuesday',\n",
    "                                                              'Wednesday', 'Thursday', 'Friday', 'Saturday'])\n",
    "data.head()"
   ]
  },
  {
   "cell_type": "markdown",
   "metadata": {},
   "source": [
    "# Q1"
   ]
  },
  {
   "cell_type": "markdown",
   "metadata": {},
   "source": [
    "## (a)"
   ]
  },
  {
   "cell_type": "code",
   "execution_count": 3,
   "metadata": {},
   "outputs": [
    {
     "data": {
      "text/plain": [
       "March        115\n",
       "April        112\n",
       "May          105\n",
       "June          98\n",
       "December      90\n",
       "October       86\n",
       "September     85\n",
       "November      83\n",
       "July          82\n",
       "August        72\n",
       "January       60\n",
       "February      56\n",
       "Name: Month, dtype: int64"
      ]
     },
     "execution_count": 3,
     "metadata": {},
     "output_type": "execute_result"
    }
   ],
   "source": [
    "data[\"Month\"].value_counts()"
   ]
  },
  {
   "cell_type": "code",
   "execution_count": 4,
   "metadata": {},
   "outputs": [
    {
     "data": {
      "text/plain": [
       "Thursday     154\n",
       "Tuesday      153\n",
       "Wednesday    151\n",
       "Monday       148\n",
       "Sunday       147\n",
       "Saturday     146\n",
       "Friday       145\n",
       "Name: DayOfWeek, dtype: int64"
      ]
     },
     "execution_count": 4,
     "metadata": {},
     "output_type": "execute_result"
    }
   ],
   "source": [
    "data[\"DayOfWeek\"].value_counts()"
   ]
  },
  {
   "cell_type": "markdown",
   "metadata": {},
   "source": [
    "## (b)"
   ]
  },
  {
   "cell_type": "code",
   "execution_count": 5,
   "metadata": {},
   "outputs": [
    {
     "name": "stdout",
     "output_type": "stream",
     "text": [
      "Residual Sum of Squares =  22360.22950193286\n"
     ]
    }
   ],
   "source": [
    "import Regression\n",
    "X = pd.DataFrame({\"Intercept\":[1]*data.shape[0]})\n",
    "param_name = X.columns\n",
    "y = data['Weight']\n",
    "b, residual_SS, XtX_Ginv, aliasParam, nonAliasParam = Regression.RegModel(X, y)\n",
    "print('Residual Sum of Squares = ', residual_SS)"
   ]
  },
  {
   "cell_type": "markdown",
   "metadata": {},
   "source": [
    "## (c)"
   ]
  },
  {
   "cell_type": "code",
   "execution_count": 6,
   "metadata": {},
   "outputs": [
    {
     "name": "stdout",
     "output_type": "stream",
     "text": [
      "Residual Sum of Squares =  17776.054171950123\n"
     ]
    }
   ],
   "source": [
    "X = pd.get_dummies(data[[\"Month\"]])\n",
    "X.insert(0, 'Intercept', 1)\n",
    "param_name = X.columns\n",
    "y = data['Weight']\n",
    "b, residual_SS, XtX_Ginv, aliasParam, nonAliasParam = Regression.RegModel(X, y)\n",
    "print('Residual Sum of Squares = ', residual_SS)"
   ]
  },
  {
   "cell_type": "markdown",
   "metadata": {},
   "source": [
    "## (d)"
   ]
  },
  {
   "cell_type": "code",
   "execution_count": 7,
   "metadata": {},
   "outputs": [
    {
     "name": "stdout",
     "output_type": "stream",
     "text": [
      "Residual Sum of Squares =  22239.170445402047\n"
     ]
    }
   ],
   "source": [
    "X = pd.get_dummies(data[[\"DayOfWeek\"]])\n",
    "X.insert(0, 'Intercept', 1)\n",
    "param_name = X.columns\n",
    "y = data['Weight']\n",
    "b, residual_SS, XtX_Ginv, aliasParam, nonAliasParam = Regression.RegModel(X, y)\n",
    "print('Residual Sum of Squares = ', residual_SS)"
   ]
  },
  {
   "cell_type": "markdown",
   "metadata": {},
   "source": [
    "## (e)"
   ]
  },
  {
   "cell_type": "code",
   "execution_count": 8,
   "metadata": {},
   "outputs": [
    {
     "name": "stdout",
     "output_type": "stream",
     "text": [
      "Generalized Inverse of XtX\n",
      "[[ 0.0068493 -0.0068493 -0.0068493 -0.0068493 -0.0068493 -0.0068493 -0.0068493  0.       ]\n",
      " [-0.0068493  0.013652   0.0068493  0.0068493  0.0068493  0.0068493  0.0068493  0.       ]\n",
      " [-0.0068493  0.0068493  0.0136061  0.0068493  0.0068493  0.0068493  0.0068493  0.       ]\n",
      " [-0.0068493  0.0068493  0.0068493  0.0133853  0.0068493  0.0068493  0.0068493  0.       ]\n",
      " [-0.0068493  0.0068493  0.0068493  0.0068493  0.0134718  0.0068493  0.0068493  0.       ]\n",
      " [-0.0068493  0.0068493  0.0068493  0.0068493  0.0068493  0.0133428  0.0068493  0.       ]\n",
      " [-0.0068493  0.0068493  0.0068493  0.0068493  0.0068493  0.0068493  0.0137459  0.       ]\n",
      " [ 0.         0.         0.         0.         0.         0.         0.         0.       ]]\n"
     ]
    }
   ],
   "source": [
    "print('Generalized Inverse of XtX')\n",
    "print(XtX_Ginv)"
   ]
  },
  {
   "cell_type": "code",
   "execution_count": null,
   "metadata": {},
   "outputs": [],
   "source": [
    "XtX_Ginv_1 = pandas.DataFrame(XtX_Ginv)"
   ]
  },
  {
   "cell_type": "code",
   "execution_count": null,
   "metadata": {},
   "outputs": [],
   "source": [
    "XtX_Ginv_1"
   ]
  },
  {
   "cell_type": "markdown",
   "metadata": {},
   "source": [
    "## (f)"
   ]
  },
  {
   "cell_type": "code",
   "execution_count": 9,
   "metadata": {},
   "outputs": [
    {
     "name": "stdout",
     "output_type": "stream",
     "text": [
      "Residual Sum of Squares =  17665.565952541096\n"
     ]
    }
   ],
   "source": [
    "X = pd.get_dummies(data[[\"Month\", \"DayOfWeek\"]])\n",
    "X.insert(0, 'Intercept', 1)\n",
    "param_name = X.columns\n",
    "y = data['Weight']\n",
    "b, residual_SS, XtX_Ginv, aliasParam, nonAliasParam = Regression.RegModel(X, y)\n",
    "print('Residual Sum of Squares = ', residual_SS)"
   ]
  },
  {
   "cell_type": "markdown",
   "metadata": {},
   "source": [
    "## (g)"
   ]
  },
  {
   "cell_type": "markdown",
   "metadata": {},
   "source": [
    "Weight ~ Intercept + Month + DayOfWeek"
   ]
  },
  {
   "cell_type": "markdown",
   "metadata": {},
   "source": [
    "## (h)"
   ]
  },
  {
   "cell_type": "code",
   "execution_count": 10,
   "metadata": {},
   "outputs": [
    {
     "name": "stdout",
     "output_type": "stream",
     "text": [
      "Aliased Parameter Index(['Month_December', 'DayOfWeek_Saturday'], dtype='object')\n"
     ]
    },
    {
     "data": {
      "text/plain": [
       "20"
      ]
     },
     "execution_count": 10,
     "metadata": {},
     "output_type": "execute_result"
    }
   ],
   "source": [
    "print('Aliased Parameter', param_name[aliasParam])\n",
    "len(aliasParam)+len(nonAliasParam)"
   ]
  },
  {
   "cell_type": "markdown",
   "metadata": {},
   "source": [
    "There are two aliased parameters and 18 parameters"
   ]
  },
  {
   "cell_type": "markdown",
   "metadata": {},
   "source": [
    "## (i)"
   ]
  },
  {
   "cell_type": "code",
   "execution_count": 11,
   "metadata": {
    "scrolled": true
   },
   "outputs": [
    {
     "name": "stdout",
     "output_type": "stream",
     "text": [
      "Parameter Estimates\n",
      "Intercept              2.1122573e+02\n",
      "Month_January         -4.4054252e+00\n",
      "Month_February        -4.8239659e+00\n",
      "Month_March           -2.8253761e+00\n",
      "Month_April           -4.2731582e+00\n",
      "Month_May             -6.4393219e+00\n",
      "Month_June            -7.1583571e+00\n",
      "Month_July            -7.1115251e+00\n",
      "Month_August          -4.8223766e+00\n",
      "Month_September       -4.0327408e+00\n",
      "Month_October         -3.3379674e+00\n",
      "Month_November        -1.5751820e+00\n",
      "Month_December         0.0000000e+00\n",
      "DayOfWeek_Sunday       3.9628664e-01\n",
      "DayOfWeek_Monday       6.6924303e-01\n",
      "DayOfWeek_Tuesday      7.3832484e-02\n",
      "DayOfWeek_Wednesday   -1.9775855e-01\n",
      "DayOfWeek_Thursday    -3.0878554e-01\n",
      "DayOfWeek_Friday      -1.7015053e-01\n",
      "DayOfWeek_Saturday     0.0000000e+00\n",
      "dtype: float64\n"
     ]
    }
   ],
   "source": [
    "beta = pd.Series(b, index = param_name)\n",
    "print('Parameter Estimates')\n",
    "print(beta)"
   ]
  },
  {
   "cell_type": "markdown",
   "metadata": {},
   "source": [
    "# Q2"
   ]
  },
  {
   "cell_type": "markdown",
   "metadata": {},
   "source": [
    "## (a)"
   ]
  },
  {
   "cell_type": "code",
   "execution_count": 12,
   "metadata": {},
   "outputs": [
    {
     "data": {
      "text/plain": [
       "<AxesSubplot:title={'center':'Residuals'}, xlabel='Month'>"
      ]
     },
     "execution_count": 12,
     "metadata": {},
     "output_type": "execute_result"
    },
    {
     "data": {
      "image/png": "[encoded data removed]",
      "text/plain": [
       "<Figure size 864x576 with 1 Axes>"
      ]
     },
     "metadata": {
      "needs_background": "light"
     },
     "output_type": "display_data"
    }
   ],
   "source": [
    "pred_y = np.matmul(X, b)\n",
    "resid_y = y - pred_y\n",
    "data[\"Residuals\"] = resid_y\n",
    "data.boxplot(column=\"Residuals\", by=\"Month\", figsize=(12, 8))"
   ]
  },
  {
   "cell_type": "markdown",
   "metadata": {},
   "source": [
    "The variances are not equal in each month."
   ]
  },
  {
   "cell_type": "code",
   "execution_count": 13,
   "metadata": {},
   "outputs": [
    {
     "data": {
      "text/plain": [
       "<AxesSubplot:title={'center':'Residuals'}, xlabel='DayOfWeek'>"
      ]
     },
     "execution_count": 13,
     "metadata": {},
     "output_type": "execute_result"
    },
    {
     "data": {
      "image/png": "[encoded data removed]",
      "text/plain": [
       "<Figure size 864x576 with 1 Axes>"
      ]
     },
     "metadata": {
      "needs_background": "light"
     },
     "output_type": "display_data"
    }
   ],
   "source": [
    "data.boxplot(column=\"Residuals\", by=\"DayOfWeek\", figsize=(12, 8))"
   ]
  },
  {
   "cell_type": "markdown",
   "metadata": {},
   "source": [
    "The variances are approximately equal in each day of week."
   ]
  },
  {
   "cell_type": "markdown",
   "metadata": {},
   "source": [
    "## (b)"
   ]
  },
  {
   "cell_type": "code",
   "execution_count": 14,
   "metadata": {},
   "outputs": [
    {
     "data": {
      "image/png": "[encoded data removed]",
      "text/plain": [
       "<Figure size 432x288 with 1 Axes>"
      ]
     },
     "metadata": {
      "needs_background": "light"
     },
     "output_type": "display_data"
    }
   ],
   "source": [
    "y_new = pd.Series(resid_y * resid_y, name = 'Square_Residual')\n",
    "n_obs = len(y_new)\n",
    "b, SSE0, XtX_Ginv, aliasParam, nonAliasParam = Regression.RegModel(X[['Intercept']], y_new)\n",
    "b, SSE1, XtX_Ginv, aliasParam, nonAliasParam = Regression.RegModel(X, y_new)\n",
    "\n",
    "obs_quantile = np.sort(resid_y)\n",
    "z_p = np.array(range(n_obs))\n",
    "z_p = (1.0 + z_p) / (n_obs + 0.5)\n",
    "z_quantile = norm.ppf(z_p, loc = np.mean(obs_quantile), scale = np.std(obs_quantile))\n",
    "\n",
    "plt.scatter(obs_quantile, z_quantile)\n",
    "plt.title(\"Normal Q-Q plot\")\n",
    "plt.xlabel(\"Observed Quantile\")\n",
    "plt.ylabel(\"Theoretical Quantile\")\n",
    "plt.axline((0,0), slope = 1, color = 'red', linestyle = '--')\n",
    "plt.show()"
   ]
  },
  {
   "cell_type": "code",
   "execution_count": 15,
   "metadata": {},
   "outputs": [
    {
     "name": "stdout",
     "output_type": "stream",
     "text": [
      "  Anderson Test =  15.636691540377115\n",
      "Critical Values =  [0.574 0.654 0.784 0.915 1.088]\n",
      "       p-values =  [0.15  0.1   0.05  0.025 0.01 ]\n"
     ]
    }
   ],
   "source": [
    "anderson_test = anderson(resid_y, dist = 'norm')\n",
    "print('  Anderson Test = ', anderson_test[0])\n",
    "print('Critical Values = ', anderson_test[1])\n",
    "print('       p-values = ', anderson_test[2]/100.0)\n"
   ]
  },
  {
   "cell_type": "markdown",
   "metadata": {},
   "source": [
    "The anderson test statistic is greater than the critical value, so we can reject the null hypothesis, the normality assumption is not satisfied."
   ]
  },
  {
   "cell_type": "markdown",
   "metadata": {},
   "source": [
    "## (c)"
   ]
  },
  {
   "cell_type": "code",
   "execution_count": 16,
   "metadata": {},
   "outputs": [
    {
     "name": "stdout",
     "output_type": "stream",
     "text": [
      "test statistic: 209.35170433062734\n",
      "df: 17\n",
      "p-value: 3.74507458598216e-35\n"
     ]
    }
   ],
   "source": [
    "#Breusch-Pagan Test\n",
    "r_squared = 1.0 - (SSE1 / SSE0)\n",
    "breusch_test = n_obs * r_squared\n",
    "breusch_df = len(nonAliasParam) - 1\n",
    "breusch_pvalue = chi2.sf(breusch_test, breusch_df)\n",
    "print(\"test statistic:\", breusch_test)\n",
    "print(\"df:\",breusch_df )\n",
    "print(\"p-value:\", breusch_pvalue)"
   ]
  },
  {
   "cell_type": "code",
   "execution_count": 17,
   "metadata": {},
   "outputs": [],
   "source": [
    "#White Test\n",
    "from statsmodels.compat import lzip\n",
    "\n",
    "from statsmodels.stats.diagnostic import het_white\n",
    "import statsmodels.api as sm\n",
    "import pandas as pd\n",
    "\n",
    "X_white=pd.get_dummies(data[[\"Month\", \"DayOfWeek\"]])\n",
    "y_white=data[\"Residuals\"]\n",
    "X_white.insert(0,\"Intercept\",1)\n",
    "white_test_statistics=het_white(y_white,X_white)[0]\n",
    "white_test_pvalue= het_white(y_white,X_white)[1]"
   ]
  },
  {
   "cell_type": "code",
   "execution_count": 2,
   "metadata": {},
   "outputs": [
    {
     "name": "stdout",
     "output_type": "stream",
     "text": [
      "test statistic: 233.2818239759793\n",
      "p-value: 3.3282382921650404e-16\n"
     ]
    }
   ],
   "source": [
    "print(\"test statistic:\",white_test_statistics)\n",
    "print(\"p-value:\", white_test_pvalue)\n"
   ]
  },
  {
   "cell_type": "markdown",
   "metadata": {},
   "source": [
    "The p-value is close to zero, so there is evidence of non-homogenous variance"
   ]
  },
  {
   "cell_type": "markdown",
   "metadata": {},
   "source": [
    "## (d)"
   ]
  },
  {
   "cell_type": "code",
   "execution_count": 21,
   "metadata": {},
   "outputs": [
    {
     "data": {
      "image/png": "[encoded data removed]",
      "text/plain": [
       "<Figure size 432x288 with 1 Axes>"
      ]
     },
     "metadata": {
      "needs_background": "light"
     },
     "output_type": "display_data"
    },
    {
     "name": "stdout",
     "output_type": "stream",
     "text": [
      "Autocorrelation =  0.9199539086078399\n",
      "Durbin-Watson Test 0.1600779864874749\n"
     ]
    }
   ],
   "source": [
    "# Durbin-Watson Test of Autocorrelation\n",
    "z1 = resid_y[0:(n_obs-1)].to_numpy()\n",
    "z2 = resid_y[1:n_obs].to_numpy()\n",
    "z12_corr = np.corrcoef(z1, z2)\n",
    "plt.scatter(z1, z2)\n",
    "plt.xlabel('Residual[i]')\n",
    "plt.ylabel('Residual[[i+1]')\n",
    "plt.show()\n",
    "print('Autocorrelation = ', z12_corr[0,1])\n",
    "durbin_watson_test = np.sum((z1-z2)**2) / np.sum(resid_y**2)\n",
    "print('Durbin-Watson Test', durbin_watson_test)"
   ]
  },
  {
   "cell_type": "markdown",
   "metadata": {},
   "source": [
    "There is evidence of autocorrelation among observations."
   ]
  },
  {
   "cell_type": "markdown",
   "metadata": {},
   "source": [
    "## (e)"
   ]
  },
  {
   "cell_type": "code",
   "execution_count": 25,
   "metadata": {},
   "outputs": [],
   "source": [
    "import pandas as pd\n",
    "import itertools\n",
    "import statsmodels.formula.api as smf\n",
    "import numpy as np"
   ]
  },
  {
   "cell_type": "code",
   "execution_count": 26,
   "metadata": {},
   "outputs": [],
   "source": [
    "def _pred_Contribution(df,sequence,x):\n",
    "    Sq = list(sequence)\n",
    "    idx = Sq.index(x) +1 \n",
    "    out = df[df['Predictor Sequence']  == tuple(sequence)][f'Predictor_{idx}_Enters'] \n",
    "    if idx == 1:\n",
    "        return out \n",
    "    else:\n",
    "        return out -  df[df['Predictor Sequence']  == tuple(sequence)][f'Predictor_{idx-1}_Enters'] \n",
    "    \n",
    "\n",
    "def Pred_Contributions(df,x):\n",
    "    out = []\n",
    "    for idx in df.index:\n",
    "        row = df.iloc[idx] \n",
    "        out.append(float(_pred_Contribution(df,row['Predictor Sequence'],x)))\n",
    "    return out\n",
    "\n",
    "class SV_OLS:\n",
    "    \"This Class is dedicated for calculating the Shapely Value of a simple linear regression\"\n",
    "    def __init__(self,data,Y_name,X_names):\n",
    "        self.data = data\n",
    "        self.Y_name = Y_name\n",
    "        self.X_names = X_names\n",
    "        self.Fetch_combs()\n",
    "    \n",
    "    def Fetch_combs(self):\n",
    "        Regressors = self.X_names\n",
    "        OUT = {0:''}\n",
    "        for N in range(1,len(Regressors)+1):\n",
    "            OUT[N] = [i for i in itertools.combinations(Regressors,N)]\n",
    "        self.combs = OUT\n",
    "        \n",
    "    def formulate(self,lst):\n",
    "        out = self.Y_name + ' ~ 1'\n",
    "        for i in lst:\n",
    "            out += f' + {i}'\n",
    "        return out\n",
    "\n",
    "    def Contribution(self,candidates):\n",
    "        mod = smf.ols(self.formulate(candidates),self.data)\n",
    "        mod = mod.fit()\n",
    "        return mod.rsquared\n",
    "    \n",
    "    def get_R_table(self):\n",
    "        R_table = {('1'):T.Contribution('1')}\n",
    "        for N in self.combs:\n",
    "            for comb in self.combs[N]:\n",
    "                R_table[comb] = T.Contribution(comb)\n",
    "        return R_table\n",
    "    \n",
    "    def _get_df(self):\n",
    "        #Get the permutation of grandcolision \n",
    "        Perms = [i for i in itertools.permutations(T.X_names,r=len(T.X_names))]\n",
    "        #Create Framework\n",
    "        _dat =  {'Predictor Sequence':[]}\n",
    "        count = 0\n",
    "        for x in self.X_names:\n",
    "            count += 1 \n",
    "            _dat[f'Predictor_{count}_Enters'] = []\n",
    "        df = pd.DataFrame(data = _dat)\n",
    "        #Populate values:\n",
    "        for perm in Perms:\n",
    "            temp_mod = set()\n",
    "            row = [tuple(perm)]\n",
    "            for p in perm:\n",
    "                temp_mod.add(p)\n",
    "                #print(R_tab[tuple(temp_mod)])\n",
    "                row.append(self.Contribution(tuple(temp_mod)))\n",
    "            df.loc[len(df.index)] = row\n",
    "        return df\n",
    "    \n",
    "    def Get_SV_table(self):\n",
    "        df = self._get_df()\n",
    "        for x in self.X_names:\n",
    "            df[x] = Pred_Contributions(df,x)\n",
    "        return df\n",
    "    \n",
    "    def SV_Values(self):\n",
    "        _df = self.Get_SV_table()\n",
    "        out = dict()\n",
    "        for x in self.X_names:\n",
    "            out[x] = [np.average(_df[x])]\n",
    "        return pd.DataFrame(out,index = ['Shapley Value'])\n",
    "        \n",
    "    "
   ]
  },
  {
   "cell_type": "code",
   "execution_count": 27,
   "metadata": {},
   "outputs": [
    {
     "name": "stderr",
     "output_type": "stream",
     "text": [
      "D:\\Anaconda\\lib\\site-packages\\numpy\\core\\_asarray.py:102: VisibleDeprecationWarning: Creating an ndarray from ragged nested sequences (which is a list-or-tuple of lists-or-tuples-or ndarrays with different lengths or shapes) is deprecated. If you meant to do this, you must specify 'dtype=object' when creating the ndarray.\n",
      "  return array(a, dtype, copy=False, order=order)\n"
     ]
    },
    {
     "data": {
      "text/html": [
       "<div>\n",
       "<style scoped>\n",
       "    .dataframe tbody tr th:only-of-type {\n",
       "        vertical-align: middle;\n",
       "    }\n",
       "\n",
       "    .dataframe tbody tr th {\n",
       "        vertical-align: top;\n",
       "    }\n",
       "\n",
       "    .dataframe thead th {\n",
       "        text-align: right;\n",
       "    }\n",
       "</style>\n",
       "<table border=\"1\" class=\"dataframe\">\n",
       "  <thead>\n",
       "    <tr style=\"text-align: right;\">\n",
       "      <th></th>\n",
       "      <th>Predictor Sequence</th>\n",
       "      <th>Predictor_1_Enters</th>\n",
       "      <th>Predictor_2_Enters</th>\n",
       "      <th>Month</th>\n",
       "      <th>DayOfWeek</th>\n",
       "    </tr>\n",
       "  </thead>\n",
       "  <tbody>\n",
       "    <tr>\n",
       "      <th>0</th>\n",
       "      <td>(Month, DayOfWeek)</td>\n",
       "      <td>2.0501468e-01</td>\n",
       "      <td>2.0995596e-01</td>\n",
       "      <td>2.0501468e-01</td>\n",
       "      <td>4.9412829e-03</td>\n",
       "    </tr>\n",
       "    <tr>\n",
       "      <th>1</th>\n",
       "      <td>(DayOfWeek, Month)</td>\n",
       "      <td>5.4140346e-03</td>\n",
       "      <td>2.0995596e-01</td>\n",
       "      <td>2.0454193e-01</td>\n",
       "      <td>5.4140346e-03</td>\n",
       "    </tr>\n",
       "  </tbody>\n",
       "</table>\n",
       "</div>"
      ],
      "text/plain": [
       "   Predictor Sequence  Predictor_1_Enters  Predictor_2_Enters         Month     DayOfWeek\n",
       "0  (Month, DayOfWeek)       2.0501468e-01       2.0995596e-01 2.0501468e-01 4.9412829e-03\n",
       "1  (DayOfWeek, Month)       5.4140346e-03       2.0995596e-01 2.0454193e-01 5.4140346e-03"
      ]
     },
     "execution_count": 27,
     "metadata": {},
     "output_type": "execute_result"
    }
   ],
   "source": [
    "T = SV_OLS(data,'Weight ',['Month', 'DayOfWeek'])\n",
    "df = T.Get_SV_table()\n",
    "df"
   ]
  },
  {
   "cell_type": "code",
   "execution_count": 28,
   "metadata": {},
   "outputs": [
    {
     "name": "stderr",
     "output_type": "stream",
     "text": [
      "D:\\Anaconda\\lib\\site-packages\\numpy\\core\\_asarray.py:102: VisibleDeprecationWarning: Creating an ndarray from ragged nested sequences (which is a list-or-tuple of lists-or-tuples-or ndarrays with different lengths or shapes) is deprecated. If you meant to do this, you must specify 'dtype=object' when creating the ndarray.\n",
      "  return array(a, dtype, copy=False, order=order)\n"
     ]
    },
    {
     "data": {
      "text/html": [
       "<div>\n",
       "<style scoped>\n",
       "    .dataframe tbody tr th:only-of-type {\n",
       "        vertical-align: middle;\n",
       "    }\n",
       "\n",
       "    .dataframe tbody tr th {\n",
       "        vertical-align: top;\n",
       "    }\n",
       "\n",
       "    .dataframe thead th {\n",
       "        text-align: right;\n",
       "    }\n",
       "</style>\n",
       "<table border=\"1\" class=\"dataframe\">\n",
       "  <thead>\n",
       "    <tr style=\"text-align: right;\">\n",
       "      <th></th>\n",
       "      <th>Month</th>\n",
       "      <th>DayOfWeek</th>\n",
       "    </tr>\n",
       "  </thead>\n",
       "  <tbody>\n",
       "    <tr>\n",
       "      <th>Shapley Value</th>\n",
       "      <td>2.0477831e-01</td>\n",
       "      <td>5.1776588e-03</td>\n",
       "    </tr>\n",
       "  </tbody>\n",
       "</table>\n",
       "</div>"
      ],
      "text/plain": [
       "                      Month     DayOfWeek\n",
       "Shapley Value 2.0477831e-01 5.1776588e-03"
      ]
     },
     "execution_count": 28,
     "metadata": {},
     "output_type": "execute_result"
    }
   ],
   "source": [
    "SVs = T.SV_Values()\n",
    "SVs"
   ]
  },
  {
   "cell_type": "code",
   "execution_count": 29,
   "metadata": {},
   "outputs": [
    {
     "data": {
      "text/plain": [
       "Month       9.8000000e-01\n",
       "DayOfWeek   2.0000000e-02\n",
       "Name: Shapley Value, dtype: float64"
      ]
     },
     "execution_count": 29,
     "metadata": {},
     "output_type": "execute_result"
    }
   ],
   "source": [
    "# the Percent Shapley values of the two predictors\n",
    "np.round(SVs.loc['Shapley Value']/sum(SVs.loc['Shapley Value']), 2)\n",
    "# the percent of month is 0.98, the percent of Day of week is 0.02."
   ]
  },
  {
   "cell_type": "code",
   "execution_count": 30,
   "metadata": {},
   "outputs": [
    {
     "data": {
      "text/plain": [
       "0.20995596440365605"
      ]
     },
     "execution_count": 30,
     "metadata": {},
     "output_type": "execute_result"
    }
   ],
   "source": [
    "sum(SVs.loc['Shapley Value'])"
   ]
  },
  {
   "cell_type": "code",
   "execution_count": 31,
   "metadata": {},
   "outputs": [
    {
     "data": {
      "text/plain": [
       "{'1': 0.0,\n",
       " ('Month',): 0.20501468151533875,\n",
       " ('DayOfWeek',): 0.005414034614362295,\n",
       " ('Month', 'DayOfWeek'): 0.20995596440365605}"
      ]
     },
     "execution_count": 31,
     "metadata": {},
     "output_type": "execute_result"
    }
   ],
   "source": [
    "T.get_R_table()"
   ]
  },
  {
   "cell_type": "code",
   "execution_count": 26,
   "metadata": {},
   "outputs": [],
   "source": [
    "per_M=0.20501468151533875/(0.20477831+0.0051776588)\n",
    "per_DoW=0.0051776588/(0.20477831+0.0051776588)"
   ]
  },
  {
   "cell_type": "code",
   "execution_count": null,
   "metadata": {},
   "outputs": [],
   "source": []
  }
 ],
 "metadata": {
  "kernelspec": {
   "display_name": "Python 3",
   "language": "python",
   "name": "python3"
  },
  "language_info": {
   "codemirror_mode": {
    "name": "ipython",
    "version": 3
   },
   "file_extension": ".py",
   "mimetype": "text/x-python",
   "name": "python",
   "nbconvert_exporter": "python",
   "pygments_lexer": "ipython3",
   "version": "3.7.6"
  }
 },
 "nbformat": 4,
 "nbformat_minor": 4
}
