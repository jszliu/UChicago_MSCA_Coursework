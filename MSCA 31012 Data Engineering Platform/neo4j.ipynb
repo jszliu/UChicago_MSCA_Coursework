{
 "cells": [
  {
   "cell_type": "code",
   "execution_count": 1,
   "metadata": {},
   "outputs": [],
   "source": [
    "from py2neo import Graph"
   ]
  },
  {
   "cell_type": "code",
   "execution_count": 2,
   "metadata": {},
   "outputs": [],
   "source": [
    "graph = Graph(\"http://localhost:7474\", auth=(\"neo4j\", \"123456\"))"
   ]
  },
  {
   "cell_type": "code",
   "execution_count": 3,
   "metadata": {},
   "outputs": [],
   "source": [
    "# 1 Find all Producers that produced the movie When Harry Met Sally\n",
    "results = graph.run(\"match (movie:Movie {title:'When Harry Met Sally'})-[r:PRODUCED]-(person:Person) return person.name\")"
   ]
  },
  {
   "cell_type": "code",
   "execution_count": 4,
   "metadata": {},
   "outputs": [
    {
     "name": "stdout",
     "output_type": "stream",
     "text": [
      "'Nora Ephron'\n",
      "'Rob Reiner'\n"
     ]
    }
   ],
   "source": [
    "for name in results:\n",
    "    print(name)"
   ]
  },
  {
   "cell_type": "code",
   "execution_count": 5,
   "metadata": {},
   "outputs": [],
   "source": [
    "# 2 Find directors who have directed more than 2 movies\n",
    "results = graph.run(\"match (person:Person)-[r:DIRECTED]-(movie:Movie) with person, count(*) as cnt where cnt > 2 return person.name\")"
   ]
  },
  {
   "cell_type": "code",
   "execution_count": 6,
   "metadata": {},
   "outputs": [
    {
     "name": "stdout",
     "output_type": "stream",
     "text": [
      "'Lana Wachowski'\n",
      "'Andy Wachowski'\n",
      "'Rob Reiner'\n",
      "'Ron Howard'\n"
     ]
    }
   ],
   "source": [
    "for name in results:\n",
    "    print(name)"
   ]
  },
  {
   "cell_type": "code",
   "execution_count": 7,
   "metadata": {},
   "outputs": [],
   "source": [
    "# 3 Find the actors with 5+ movies, and the movies in which they acted\n",
    "results = graph.run(\"match (person:Person)-[r:ACTED_IN]-(movie:Movie) with person, count(*) as cnt where cnt >= 5 match (person:Person)-[r:ACTED_IN]-(movie:Movie) return person.name, movie.title\")"
   ]
  },
  {
   "cell_type": "code",
   "execution_count": 8,
   "metadata": {},
   "outputs": [
    {
     "name": "stdout",
     "output_type": "stream",
     "text": [
      "Hugo Weaving \t Cloud Atlas\n",
      "Hugo Weaving \t V for Vendetta\n",
      "Hugo Weaving \t The Matrix Revolutions\n",
      "Hugo Weaving \t The Matrix Reloaded\n",
      "Hugo Weaving \t The Matrix\n",
      "Keanu Reeves \t Something's Gotta Give\n",
      "Keanu Reeves \t The Replacements\n",
      "Keanu Reeves \t Johnny Mnemonic\n",
      "Keanu Reeves \t The Devil's Advocate\n",
      "Keanu Reeves \t The Matrix Revolutions\n",
      "Keanu Reeves \t The Matrix Reloaded\n",
      "Keanu Reeves \t The Matrix\n",
      "Jack Nicholson \t As Good as It Gets\n",
      "Jack Nicholson \t One Flew Over the Cuckoo's Nest\n",
      "Jack Nicholson \t Something's Gotta Give\n",
      "Jack Nicholson \t Hoffa\n",
      "Jack Nicholson \t A Few Good Men\n",
      "Meg Ryan \t Sleepless in Seattle\n",
      "Meg Ryan \t You've Got Mail\n",
      "Meg Ryan \t Top Gun\n",
      "Meg Ryan \t When Harry Met Sally\n",
      "Meg Ryan \t Joe Versus the Volcano\n",
      "Tom Hanks \t Apollo 13\n",
      "Tom Hanks \t You've Got Mail\n",
      "Tom Hanks \t A League of Their Own\n",
      "Tom Hanks \t Joe Versus the Volcano\n",
      "Tom Hanks \t That Thing You Do\n",
      "Tom Hanks \t The Da Vinci Code\n",
      "Tom Hanks \t Cloud Atlas\n",
      "Tom Hanks \t Cast Away\n",
      "Tom Hanks \t The Green Mile\n",
      "Tom Hanks \t Sleepless in Seattle\n",
      "Tom Hanks \t The Polar Express\n",
      "Tom Hanks \t Charlie Wilson's War\n"
     ]
    }
   ],
   "source": [
    "for name, title in results:\n",
    "    print(name, '\\t', title)"
   ]
  },
  {
   "cell_type": "code",
   "execution_count": 9,
   "metadata": {},
   "outputs": [],
   "source": [
    "# 4 Movies and actors exactly 3 \"hops\" away from the movie Hoffa\n",
    "results = graph.run(\"match (p)-[*3]-(movie:Movie {title:'Hoffa'}) return distinct p\")"
   ]
  },
  {
   "cell_type": "code",
   "execution_count": 10,
   "metadata": {},
   "outputs": [
    {
     "name": "stdout",
     "output_type": "stream",
     "text": [
      "Actor: John C. Reilly\n",
      "Actor: J.T. Walsh\n",
      "Actor: Jack Nicholson\n",
      "Actor: Milos Forman\n",
      "Actor: James Marshall\n",
      "Actor: Kevin Pollak\n",
      "Actor: Aaron Sorkin\n",
      "Actor: Cuba Gooding Jr.\n",
      "Actor: Christopher Guest\n",
      "Actor: Rob Reiner\n",
      "Actor: Noah Wyle\n",
      "Actor: Kiefer Sutherland\n",
      "Actor: Kevin Bacon\n",
      "Actor: Demi Moore\n",
      "Actor: Tom Cruise\n",
      "Actor: Helen Hunt\n",
      "Actor: Greg Kinnear\n",
      "Actor: James L. Brooks\n",
      "Actor: Danny DeVito\n",
      "Actor: Keanu Reeves\n",
      "Actor: Nancy Meyers\n",
      "Actor: Diane Keaton\n"
     ]
    }
   ],
   "source": [
    "for record in results:\n",
    "    node = record['p']\n",
    "    if node.has_label('Person'):\n",
    "        print(\"Actor:\", node['name'])\n",
    "    elif node.has_label('Movie'):\n",
    "        print('Movie:', node['title'])"
   ]
  },
  {
   "cell_type": "code",
   "execution_count": 11,
   "metadata": {},
   "outputs": [],
   "source": [
    "# 5 Find all actors who have also directed movies and the movies that they directed\n",
    "results = graph.run(\"match (person:Person)-[r:ACTED_IN]-(movie1:Movie) with person match (person:Person)-[r:DIRECTED]-(movie2:Movie) return distinct person.name, movie2.title\")"
   ]
  },
  {
   "cell_type": "code",
   "execution_count": 12,
   "metadata": {},
   "outputs": [
    {
     "name": "stdout",
     "output_type": "stream",
     "text": [
      "Tom Hanks \t That Thing You Do\n",
      "Werner Herzog \t RescueDawn\n",
      "Clint Eastwood \t Unforgiven\n",
      "James Marshall \t V for Vendetta\n",
      "James Marshall \t Ninja Assassin\n",
      "Danny DeVito \t Hoffa\n"
     ]
    }
   ],
   "source": [
    "for name, title in results:\n",
    "    print(name, '\\t', title)"
   ]
  },
  {
   "cell_type": "markdown",
   "metadata": {},
   "source": [
    "Provide 5 additional queries and indicate the specific business use cases they \n",
    "address"
   ]
  },
  {
   "cell_type": "code",
   "execution_count": 13,
   "metadata": {},
   "outputs": [],
   "source": [
    "# 1.Find all movies released between 1980 and 2000\n",
    "results = graph.run(\"match (n:Movie) where n.released > 1980 and n.released < 2000 return n.title\")"
   ]
  },
  {
   "cell_type": "code",
   "execution_count": 14,
   "metadata": {},
   "outputs": [
    {
     "name": "stdout",
     "output_type": "stream",
     "text": [
      "'The Matrix'\n",
      "\"The Devil's Advocate\"\n",
      "'A Few Good Men'\n",
      "'Top Gun'\n",
      "'Stand By Me'\n",
      "'As Good as It Gets'\n",
      "'What Dreams May Come'\n",
      "'Snow Falling on Cedars'\n",
      "\"You've Got Mail\"\n",
      "'Sleepless in Seattle'\n",
      "'Joe Versus the Volcano'\n",
      "'When Harry Met Sally'\n",
      "'That Thing You Do'\n",
      "'The Birdcage'\n",
      "'Unforgiven'\n",
      "'Johnny Mnemonic'\n",
      "'The Green Mile'\n",
      "'Hoffa'\n",
      "'Apollo 13'\n",
      "'Twister'\n",
      "'Bicentennial Man'\n",
      "'A League of Their Own'\n"
     ]
    }
   ],
   "source": [
    "for name in results:\n",
    "    print(name)"
   ]
  },
  {
   "cell_type": "code",
   "execution_count": 15,
   "metadata": {},
   "outputs": [],
   "source": [
    "# 2.Find the youngest actor in the movie Cloud Atlas\n",
    "results = graph.run(\"match (p:Person)-[r:ACTED_IN]-(m:Movie {title:'Cloud Atlas'}) return p.name order by p.born Desc limit 1\")"
   ]
  },
  {
   "cell_type": "code",
   "execution_count": 16,
   "metadata": {},
   "outputs": [
    {
     "name": "stdout",
     "output_type": "stream",
     "text": [
      "'Halle Berry'\n"
     ]
    }
   ],
   "source": [
    "for name in results:\n",
    "    print(name)"
   ]
  },
  {
   "cell_type": "code",
   "execution_count": 17,
   "metadata": {},
   "outputs": [],
   "source": [
    "# 3.Find top 10 average rating movies\n",
    "results = graph.run(\"MATCH (p:Person)-[r:REVIEWED]->(m:Movie) with m, avg(r.rating) as avg_score RETURN m.title, avg_score order by avg_score DESC limit 10\")"
   ]
  },
  {
   "cell_type": "code",
   "execution_count": 18,
   "metadata": {},
   "outputs": [
    {
     "name": "stdout",
     "output_type": "stream",
     "text": [
      "Cloud Atlas \t 95.0\n",
      "Jerry Maguire \t 92.0\n",
      "Unforgiven \t 85.0\n",
      "The Replacements \t 75.66666666666667\n",
      "The Da Vinci Code \t 66.5\n",
      "The Birdcage \t 45.0\n"
     ]
    }
   ],
   "source": [
    "for title, score in results:\n",
    "    print(title, '\\t', score)"
   ]
  },
  {
   "cell_type": "code",
   "execution_count": 19,
   "metadata": {},
   "outputs": [],
   "source": [
    "# 4.Find all roles that Tom Hanks played\n",
    "results = graph.run(\"match (p:Person {name:'Tom Hanks'})-[r:ACTED_IN]-(m:Movie) return p.name, m.title, r.roles\")"
   ]
  },
  {
   "cell_type": "code",
   "execution_count": 20,
   "metadata": {},
   "outputs": [
    {
     "name": "stdout",
     "output_type": "stream",
     "text": [
      "Tom Hanks \t Apollo 13 \t ['Jim Lovell']\n",
      "Tom Hanks \t You've Got Mail \t ['Joe Fox']\n",
      "Tom Hanks \t A League of Their Own \t ['Jimmy Dugan']\n",
      "Tom Hanks \t Joe Versus the Volcano \t ['Joe Banks']\n",
      "Tom Hanks \t That Thing You Do \t ['Mr. White']\n",
      "Tom Hanks \t The Da Vinci Code \t ['Dr. Robert Langdon']\n",
      "Tom Hanks \t Cloud Atlas \t ['Zachry', 'Dr. Henry Goose', 'Isaac Sachs', 'Dermot Hoggins']\n",
      "Tom Hanks \t Cast Away \t ['Chuck Noland']\n",
      "Tom Hanks \t The Green Mile \t ['Paul Edgecomb']\n",
      "Tom Hanks \t Sleepless in Seattle \t ['Sam Baldwin']\n",
      "Tom Hanks \t The Polar Express \t ['Hero Boy', 'Father', 'Conductor', 'Hobo', 'Scrooge', 'Santa Claus']\n",
      "Tom Hanks \t Charlie Wilson's War \t ['Rep. Charlie Wilson']\n"
     ]
    }
   ],
   "source": [
    "for name, title, role in results:\n",
    "    print(name, '\\t', title, '\\t', role)"
   ]
  },
  {
   "cell_type": "code",
   "execution_count": 21,
   "metadata": {},
   "outputs": [],
   "source": [
    "# 5.Find the movie that has the most people took part in\n",
    "results = graph.run(\"match (m:Movie)-[r:WROTE|ACTED_IN|DIRECTED|PRODUCED]-(p:Person) with m, count(*) as cnt return m.title, cnt order by cnt Desc limit 1\")"
   ]
  },
  {
   "cell_type": "code",
   "execution_count": 22,
   "metadata": {},
   "outputs": [
    {
     "name": "stdout",
     "output_type": "stream",
     "text": [
      "A Few Good Men \t 14\n"
     ]
    }
   ],
   "source": [
    "for name, cnt in results:\n",
    "    print(name, '\\t', cnt)"
   ]
  },
  {
   "cell_type": "code",
   "execution_count": null,
   "metadata": {},
   "outputs": [],
   "source": []
  }
 ],
 "metadata": {
  "kernelspec": {
   "display_name": "Python 3",
   "language": "python",
   "name": "python3"
  },
  "language_info": {
   "codemirror_mode": {
    "name": "ipython",
    "version": 3
   },
   "file_extension": ".py",
   "mimetype": "text/x-python",
   "name": "python",
   "nbconvert_exporter": "python",
   "pygments_lexer": "ipython3",
   "version": "3.7.6"
  }
 },
 "nbformat": 4,
 "nbformat_minor": 5
}
